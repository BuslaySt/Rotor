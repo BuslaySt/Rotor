{
 "cells": [
  {
   "cell_type": "code",
   "execution_count": 4,
   "metadata": {},
   "outputs": [
    {
     "name": "stdout",
     "output_type": "stream",
     "text": [
      "b'Bx=113,62 mT  By=-120,282 mT  Bz=0,444 mT\n",
      "b'Bx=113,619 mT  By=-120,285 mT  Bz=0,442 mT\n",
      "b'Bx=113,619 mT  By=-120,282 mT  Bz=0,441 mT\n",
      "[b'Bx=113,62 mT; By=-120,282 mT; Bz=0,444 mT; Z=91539 um; Zerr=NULL; PHI=210,212\\xb0; PHIerr=0\\xb0; T=22,68 \\xb0C', b'Bx=113,619 mT; By=-120,285 mT; Bz=0,442 mT; Z=91539 um; Zerr=NULL; PHI=210,212\\xb0; PHIerr=0\\xb0; T=22,68 \\xb0C', b'Bx=113,619 mT; By=-120,282 mT; Bz=0,441 mT; Z=91539 um; Zerr=NULL; PHI=210,212\\xb0; PHIerr=0\\xb0; T=22,68 \\xb0C']\n"
     ]
    }
   ],
   "source": [
    "import sys, datetime\n",
    "import serial.tools.list_ports\n",
    "import minimalmodbus\n",
    "import time\n",
    "import pandas\n",
    "\n",
    "\n",
    "data = []\n",
    "serialData = serial.Serial('COM4', baudrate=115200)\n",
    "\n",
    "        # Read data from COM port\n",
    "for i in range(0, 3):\n",
    "        command = 'R'\n",
    "\n",
    "        # Предыдущие значения\n",
    "#Z0 = int(Data_lbl08_ZData.text().split()[0])\n",
    "#Phi0 = float(Data_lbl14_PhiData.text().split()[0].replace('\\u00B0','').replace('\\\\xb0','').replace(',','.'))\n",
    "\n",
    "        # Send the command to the DataPort\n",
    "        serialData.write(command.encode())\n",
    "        line = serialData.readline().strip()\n",
    "        data.append(line)\n",
    "        # Запись данных в форму\n",
    "#Data_txtBrowser.setText(str(line))\n",
    "        Bx, By, Bz, Z, Zerr, Phi, PhiErr, T = str(line).split(';')\n",
    "        print(Bx, By, Bz)\n",
    "        time.sleep(0.05)\n",
    "print(data)\n",
    "\n"
   ]
  },
  {
   "cell_type": "code",
   "execution_count": 5,
   "metadata": {},
   "outputs": [],
   "source": [
    "serialData.close()"
   ]
  },
  {
   "cell_type": "code",
   "execution_count": 6,
   "metadata": {},
   "outputs": [
    {
     "name": "stdout",
     "output_type": "stream",
     "text": [
      "COM5\n",
      "minimalmodbus.Instrument<id=0x208f2a61400, address=1, mode=rtu, close_port_after_each_call=False, precalculate_read_size=True, clear_buffers_before_each_transaction=True, handle_local_echo=False, debug=False, serial=Serial<id=0x208f2f21720, open=True>(port='COM5', baudrate=38400, bytesize=8, parity='N', stopbits=2, timeout=0.05, xonxoff=False, rtscts=False, dsrdtr=False)>\n",
      "Вращение подключено\n"
     ]
    }
   ],
   "source": [
    "try: # Инициализация двигателя вращения ротора\n",
    "            # Modbus-адрес драйвера по умолчанию - 1\n",
    "    instrumentRotor = minimalmodbus.Instrument('COM5', 1) #COM9, 1 - вращение, 2 - линейка\n",
    "            # Настройка порта: скорость - 38400 бод/с, четность - нет, кол-во стоп-бит - 2.\n",
    "    instrumentRotor.mode = minimalmodbus.MODE_RTU\n",
    "    print(instrumentRotor.serial.port)\n",
    "    instrumentRotor.serial.baudrate = 38400\n",
    "    instrumentRotor.serial.parity = minimalmodbus.serial.PARITY_NONE\n",
    "    instrumentRotor.serial.stopbits = 2\n",
    "            # self.instrumentRotor.serial.databits = 8\n",
    "    instrumentRotor.serial.timeout  = 0.05          # seconds\n",
    "            # self.instrumentRotor.close_port_after_each_call = True\n",
    "    print(instrumentRotor)\n",
    "    print('Вращение подключено')\n",
    "except (IOError, AttributeError, ValueError): # minimalmodbus.serial.serialutil.SerialException:\n",
    "    message = \"Привод вращения не виден\"\n",
    "    print(message)\n",
    "\n",
    "\n"
   ]
  },
  {
   "cell_type": "code",
   "execution_count": 7,
   "metadata": {},
   "outputs": [],
   "source": [
    "try:\n",
    "            # Команда включения серво; 0x0405 - адрес параметра; 0x83 - значение параметра\n",
    "    instrumentRotor.write_registers(0x00F, [1])\n",
    "except (IOError, AttributeError, ValueError): # minimalmodbus.serial.serialutil.SerialException:\n",
    "    message = \"Запуск привода вращения не удался\"\n",
    "    print(message)"
   ]
  },
  {
   "cell_type": "code",
   "execution_count": 8,
   "metadata": {},
   "outputs": [
    {
     "name": "stdout",
     "output_type": "stream",
     "text": [
      "COM5\n",
      "minimalmodbus.Instrument<id=0x208f2aba600, address=2, mode=rtu, close_port_after_each_call=False, precalculate_read_size=True, clear_buffers_before_each_transaction=True, handle_local_echo=False, debug=False, serial=Serial<id=0x208f2f21720, open=True>(port='COM5', baudrate=38400, bytesize=8, parity='N', stopbits=2, timeout=0.05, xonxoff=False, rtscts=False, dsrdtr=False)>\n",
      "Линейка подключена\n"
     ]
    }
   ],
   "source": [
    "try: # Инициализация двигателя линейки\n",
    "            # Modbus-адрес драйвера по умолчанию - 1\n",
    "    instrumentLinear = minimalmodbus.Instrument('COM5', 2) #COM9, 1 - вращение, 2 - линейка\n",
    "            # Настройка порта: скорость - 38400 бод/с, четность - нет, кол-во стоп-бит - 2.\n",
    "    instrumentLinear.mode = minimalmodbus.MODE_RTU\n",
    "    print(instrumentLinear.serial.port)\n",
    "    instrumentLinear.serial.baudrate = 38400\n",
    "    instrumentLinear.serial.parity = minimalmodbus.serial.PARITY_NONE\n",
    "    instrumentLinear.serial.stopbits = 2\n",
    "            # self.instrumentLinear.serial.databits = 8\n",
    "    instrumentLinear.serial.timeout  = 0.05          # seconds\n",
    "            # self.instrumentLinear.close_port_after_each_call = True\n",
    "    print(instrumentLinear)\n",
    "    print('Линейка подключена')\n",
    "except (IOError, AttributeError, ValueError): # minimalmodbus.serial.serialutil.SerialException:\n",
    "    message = \"Привод линейки не виден\"\n",
    "    print(message)\n",
    "\n"
   ]
  },
  {
   "cell_type": "code",
   "execution_count": 9,
   "metadata": {},
   "outputs": [],
   "source": [
    "try:\n",
    "            # Команда включения серво; 0x0405 - адрес параметра; 0x83 - значение параметра\n",
    "    instrumentLinear.write_registers(0x00F, [1])\n",
    "except (IOError, AttributeError, ValueError): # minimalmodbus.serial.serialutil.SerialException:\n",
    "    message = \"Запуск привода линейки не удался\"\n",
    "    print(message)"
   ]
  },
  {
   "cell_type": "code",
   "execution_count": 7,
   "metadata": {},
   "outputs": [],
   "source": [
    "def digit_Z():\n",
    "    num_char = (\",\", \".\", \"+\", \"-\")\n",
    "    global Z\n",
    "    l = []\n",
    "\n",
    "    tokens = Z.split()\n",
    "    for token in tokens:\n",
    "\n",
    "        if token.startswith('Z='):\n",
    "            num = \"\"\n",
    "            for char in token:\n",
    "            #print(char)\n",
    "                if char.isdigit() or (char in num_char):\n",
    "                    num = num + char\n",
    "                #print('click')\n",
    "\n",
    "            try:\n",
    "                l.append(num)\n",
    "            except ValueError:\n",
    "                pass\n",
    "\n",
    "\n",
    "    for num in l:\n",
    "        result = float(num.replace(',', '.'))\n",
    "\n",
    "    return result    \n"
   ]
  },
  {
   "cell_type": "code",
   "execution_count": 8,
   "metadata": {},
   "outputs": [],
   "source": [
    "def digit_Bx():\n",
    "    num_char = (\",\", \".\", \"+\", \"-\")\n",
    "    global Bx\n",
    "    l = []\n",
    "\n",
    "    tokens = Bx.split()\n",
    "    for token in tokens:\n",
    "\n",
    "        if token.startswith('Bx='):\n",
    "            num = \"\"\n",
    "            for char in token:\n",
    "            #print(char)\n",
    "                if char.isdigit() or (char in num_char):\n",
    "                    num = num + char\n",
    "                #print('click')\n",
    "\n",
    "            try:\n",
    "                l.append(num)\n",
    "            except ValueError:\n",
    "                pass\n",
    "\n",
    "\n",
    "    for num in l:\n",
    "        result = float(num.replace(',', '.'))\n",
    "\n",
    "    return result    "
   ]
  },
  {
   "cell_type": "code",
   "execution_count": 9,
   "metadata": {},
   "outputs": [],
   "source": [
    "def digit_By():\n",
    "    num_char = (\",\", \".\", \"+\", \"-\")\n",
    "    global By\n",
    "    l = []\n",
    "\n",
    "    tokens = By.split()\n",
    "    for token in tokens:\n",
    "\n",
    "        if token.startswith('By='):\n",
    "            num = \"\"\n",
    "            for char in token:\n",
    "            #print(char)\n",
    "                if char.isdigit() or (char in num_char):\n",
    "                    num = num + char\n",
    "                #print('click')\n",
    "\n",
    "            try:\n",
    "                l.append(num)\n",
    "            except ValueError:\n",
    "                pass\n",
    "\n",
    "\n",
    "    for num in l:\n",
    "        result = float(num.replace(',', '.'))\n",
    "\n",
    "    return result    "
   ]
  },
  {
   "cell_type": "code",
   "execution_count": 10,
   "metadata": {},
   "outputs": [],
   "source": [
    "def digit_Bz():\n",
    "    num_char = (\",\", \".\", \"+\", \"-\")\n",
    "    global Bz\n",
    "    l = []\n",
    "\n",
    "    tokens = Bz.split()\n",
    "    for token in tokens:\n",
    "\n",
    "        if token.startswith('Bz='):\n",
    "            num = \"\"\n",
    "            for char in token:\n",
    "            #print(char)\n",
    "                if char.isdigit() or (char in num_char):\n",
    "                    num = num + char\n",
    "                #print('click')\n",
    "\n",
    "            try:\n",
    "                l.append(num)\n",
    "            except ValueError:\n",
    "                pass\n",
    "\n",
    "\n",
    "    for num in l:\n",
    "        result = float(num.replace(',', '.'))\n",
    "\n",
    "    return result    "
   ]
  },
  {
   "cell_type": "code",
   "execution_count": 18,
   "metadata": {},
   "outputs": [],
   "source": [
    "#df = pandas.DataFrame(columns = ['Bx', 'By', 'Bz', 'Phi', 'Z'])\n"
   ]
  },
  {
   "cell_type": "code",
   "execution_count": 10,
   "metadata": {},
   "outputs": [],
   "source": [
    "def getData():\n",
    "    command = 'R'\n",
    "    serialData = serial.Serial('COM4', baudrate=115200)\n",
    "    serialData.write(command.encode())\n",
    "    line = serialData.readline().strip()\n",
    "    serialData.close()\n",
    "    #data.append(line)\n",
    "    Bx, By, Bz, Z, Zerr, Phi, PhiErr, T = str(line).split(';')\n",
    "    \n",
    "    \n",
    "    return(Bx, By, Bz, Z, Phi)\n"
   ]
  },
  {
   "cell_type": "code",
   "execution_count": 38,
   "metadata": {},
   "outputs": [
    {
     "name": "stdout",
     "output_type": "stream",
     "text": [
      "(\"b'Bx=-0,691 mT\", ' By=38,235 mT', ' Bz=-10,024 mT', ' Z=117299 um', ' PHI=351,474\\\\xb0')\n"
     ]
    }
   ],
   "source": [
    "print(getData())"
   ]
  },
  {
   "cell_type": "code",
   "execution_count": 11,
   "metadata": {},
   "outputs": [],
   "source": [
    "def getDataCycle():\n",
    "    global data\n",
    "        \n",
    "    while True:\n",
    "        command = 'R'\n",
    "        serialData = serial.Serial('COM4', baudrate=115200)\n",
    "        serialData.write(command.encode())\n",
    "        line = serialData.readline().strip()\n",
    "        serialData.close()\n",
    "    \n",
    "        Bx, By, Bz, Z, Zerr, Phi, PhiErr, T = str(line).split(';')\n",
    "        Phi = Phi.split()[0].replace('\\u00B0','').replace('\\\\xb0','').replace(',','.')\n",
    "        Phi = float(Phi[4:])\n",
    "        Bx = Bx.lstrip('b\\'').split()[0].replace('\\u00B0','').replace(',','.')\n",
    "        Bx = float(Bx[3:].replace(',','.'))\n",
    "        By = float(By[4:-3].replace(',','.'))\n",
    "        Bz = float(Bz[4:-3].replace(',','.'))\n",
    "        Z = float(Z[3:-3].replace(',','.')) \n",
    "    \n",
    "        curr_list = []\n",
    "        curr_list = [Bx, By, Bz, Z, Phi]\n",
    "        data.append(curr_list)   \n",
    "\n",
    "\n"
   ]
  },
  {
   "cell_type": "code",
   "execution_count": null,
   "metadata": {},
   "outputs": [],
   "source": [
    "print(getDataCycle())"
   ]
  },
  {
   "cell_type": "code",
   "execution_count": null,
   "metadata": {},
   "outputs": [],
   "source": [
    "'''Bx, By, Bz, Z, Phi = getData()\n",
    "print(Bx, By, Bz, Phi, Z)\n",
    "new_row = [Bx, By, Bz, Phi, Z]\n",
    "df_ext = pandas.DataFrame(new_row, columns = ['Bx', 'By', 'Bz', 'Phi', 'Z'])\n",
    "df = pandas.concat([df, df_ext])\n",
    "print(df)\n",
    "'''"
   ]
  },
  {
   "cell_type": "code",
   "execution_count": 39,
   "metadata": {},
   "outputs": [
    {
     "name": "stdout",
     "output_type": "stream",
     "text": [
      "начальный угол  PHI=351,474\\xb0\n",
      "PHI=351.474\n",
      "351.474\n",
      "getting data\n",
      " PHI=356,737\\xb0\n"
     ]
    }
   ],
   "source": [
    "#init rotation\n",
    "step = 17500\n",
    "\n",
    "Bx, By, Bz, Z, Phi = getData()\n",
    "print('начальный угол', Phi)\n",
    "Phi = Phi.split()[0].replace('\\u00B0','').replace('\\\\xb0','').replace(',','.')\n",
    "print(Phi)\n",
    "Phi0 = float(Phi[4:])\n",
    "print(Phi0)\n",
    "\n",
    "try:\n",
    "        \n",
    "    instrumentRotor.write_registers(0x0007, [0x0000])\n",
    "    move = int(step*1.9)\n",
    "    speed = 0x0003\n",
    "        \n",
    "    instrumentRotor.write_registers(0x6200, [0x0041, 0, move, speed, 0x03E8, 0x03E8, 0x0000, 0x0010])\n",
    "    \n",
    "    \n",
    "        \n",
    "except (IOError, AttributeError, ValueError):\n",
    "    message = \"Команда не прошла\"\n",
    "    print(message)\n",
    "    \n",
    "time.sleep(35)\n",
    "print('getting data')\n",
    "Bx, By, Bz, Z, Phi = getData()\n",
    "print(Phi)"
   ]
  },
  {
   "cell_type": "code",
   "execution_count": 33,
   "metadata": {},
   "outputs": [],
   "source": [
    "#move up\n",
    "step_lin = 30000\n",
    "speed_lin = 0x0100\n",
    "move_lin = int(step_lin*1.9)\n",
    "\n",
    "try:\n",
    "    instrumentLinear.write_registers(0x0007, [0x0001]) # Инверсия оси движения\n",
    "    instrumentLinear.write_registers(0x6200, [0x0041, 0, move_lin, speed_lin, 0x03E8, 0x03E8, 0x0000, 0x0010])\n",
    "except (IOError, AttributeError, ValueError):\n",
    "    message = \"Команда не прошла\"\n",
    "    print(message)"
   ]
  },
  {
   "cell_type": "code",
   "execution_count": 28,
   "metadata": {},
   "outputs": [],
   "source": [
    "#linear move down\n",
    "step_lin = 30000\n",
    "speed_lin = 0x0100\n",
    "\n",
    "try:\n",
    "        \n",
    "    instrumentLinear.write_registers(0x0007, [0x0000])\n",
    "    move_lin = int(step_lin*1.9)\n",
    "        \n",
    "    instrumentLinear.write_registers(0x6200, [0x0041, 0, move_lin, speed_lin, 0x03E8, 0x03E8, 0x0000, 0x0010])\n",
    "        \n",
    "except (IOError, AttributeError, ValueError):\n",
    "    message = \"Команда не прошла\"\n",
    "    print(message)\n",
    "time.sleep(0.5)\n",
    "\n",
    "\n",
    "\n",
    "        "
   ]
  },
  {
   "cell_type": "code",
   "execution_count": 34,
   "metadata": {},
   "outputs": [],
   "source": [
    "def rotating():\n",
    "    step = 30000\n",
    "\n",
    "    try:\n",
    "        \n",
    "        instrumentRotor.write_registers(0x0007, [0x0000])\n",
    "        move = int(step*1.9)\n",
    "        speed = 0x0001\n",
    "        instrumentRotor.write_registers(0x6200, [0x0041, 0, move, speed, 0x03E8, 0x03E8, 0x0000, 0x0010])\n",
    "       \n",
    "    except (IOError, AttributeError, ValueError):\n",
    "        message = \"Команда не прошла\"\n",
    "        print(message)\n",
    "    \n"
   ]
  },
  {
   "cell_type": "code",
   "execution_count": 40,
   "metadata": {},
   "outputs": [],
   "source": [
    "def moving():\n",
    "    counter = 0\n",
    "    route = 1750000\n",
    "    step = 17248\n",
    "    step_lin = 800#480\n",
    "    while counter < route:\n",
    "\n",
    "    #START ROTATION\n",
    "        try:\n",
    "        \n",
    "            instrumentRotor.write_registers(0x0007, [0x0000])\n",
    "            move = int(step*1.9)\n",
    "            speed = 0x0003\n",
    "            instrumentRotor.write_registers(0x6200, [0x0041, 0, move, speed, 0x03E8, 0x03E8, 0x0000, 0x0010])\n",
    "        \n",
    "        except (IOError, AttributeError, ValueError):\n",
    "            message = \"Команда не прошла\"\n",
    "            print(message)\n",
    "        \n",
    "        time.sleep(27)\n",
    "    #TREK SHIFTING\n",
    "    \n",
    "        try:\n",
    "        \n",
    "            instrumentLinear.write_registers(0x0007, [0x0000])\n",
    "            move_lin = int(step_lin*1.9)\n",
    "            speed_lin = 0x0010\n",
    "            instrumentLinear.write_registers(0x6200, [0x0041, 0, move_lin, speed_lin, 0x03E8, 0x03E8, 0x0000, 0x0010])\n",
    "        \n",
    "        except (IOError, AttributeError, ValueError):\n",
    "            message = \"Команда не прошла\"\n",
    "            print(message)\n",
    "        time.sleep(5)\n",
    "        counter+=1000\n",
    "\n",
    "\n",
    "   "
   ]
  },
  {
   "cell_type": "code",
   "execution_count": 36,
   "metadata": {},
   "outputs": [],
   "source": [
    "def stop():\n",
    "\n",
    "#STOP\n",
    "    try:\n",
    "        instrumentRotor.write_registers(0x6002, [0x0040])\n",
    "        print('Стоп!')\n",
    "    except (IOError, AttributeError, ValueError):\n",
    "        message = \"Команда не прошла\"\n",
    "        print(message)"
   ]
  },
  {
   "cell_type": "code",
   "execution_count": 41,
   "metadata": {},
   "outputs": [
    {
     "name": "stdout",
     "output_type": "stream",
     "text": [
      "Команда не прошла\n",
      "Команда не прошла\n",
      "Команда не прошла\n"
     ]
    }
   ],
   "source": [
    "import multiprocessing as mp\n",
    "\n",
    "data = []\n",
    "rotation = mp.Process (target = moving())\n",
    "getting_data = mp.Process (target = getDataCycle())\n",
    "rotation.start()\n",
    "getting_data.start()\n",
    "time.sleep(200)\n",
    "rotation.terminate()\n",
    "getting_data.terminate()\n",
    "\n"
   ]
  },
  {
   "cell_type": "code",
   "execution_count": null,
   "metadata": {},
   "outputs": [],
   "source": [
    "getting_data.join()"
   ]
  },
  {
   "cell_type": "code",
   "execution_count": 3,
   "metadata": {},
   "outputs": [
    {
     "ename": "NameError",
     "evalue": "name 'data' is not defined",
     "output_type": "error",
     "traceback": [
      "\u001b[1;31m---------------------------------------------------------------------------\u001b[0m",
      "\u001b[1;31mNameError\u001b[0m                                 Traceback (most recent call last)",
      "Cell \u001b[1;32mIn[3], line 1\u001b[0m\n\u001b[1;32m----> 1\u001b[0m \u001b[38;5;28mprint\u001b[39m(\u001b[43mdata\u001b[49m)\n",
      "\u001b[1;31mNameError\u001b[0m: name 'data' is not defined"
     ]
    }
   ],
   "source": [
    "print(data)"
   ]
  },
  {
   "cell_type": "code",
   "execution_count": 14,
   "metadata": {},
   "outputs": [
    {
     "data": {
      "image/png": "[encoded data removed]",
      "text/plain": [
       "<Figure size 640x480 with 1 Axes>"
      ]
     },
     "metadata": {},
     "output_type": "display_data"
    }
   ],
   "source": [
    "import matplotlib.pyplot as plt\n",
    "\n",
    "indBx = []\n",
    "anglePhi = []\n",
    "for num in data:\n",
    "    indBx.append(num[0])\n",
    "    anglePhi.append(num[4])\n",
    "\n",
    "plt.plot(indBx)\n",
    "plt.show()    "
   ]
  },
  {
   "cell_type": "code",
   "execution_count": 2,
   "metadata": {},
   "outputs": [
    {
     "ename": "NameError",
     "evalue": "name 'instrumentRotor' is not defined",
     "output_type": "error",
     "traceback": [
      "\u001b[1;31m---------------------------------------------------------------------------\u001b[0m",
      "\u001b[1;31mNameError\u001b[0m                                 Traceback (most recent call last)",
      "Cell \u001b[1;32mIn[2], line 3\u001b[0m\n\u001b[0;32m      1\u001b[0m \u001b[38;5;66;03m#STOP\u001b[39;00m\n\u001b[0;32m      2\u001b[0m \u001b[38;5;28;01mtry\u001b[39;00m:\n\u001b[1;32m----> 3\u001b[0m             \u001b[43minstrumentRotor\u001b[49m\u001b[38;5;241m.\u001b[39mwrite_registers(\u001b[38;5;241m0x6002\u001b[39m, [\u001b[38;5;241m0x0040\u001b[39m])\n\u001b[0;32m      4\u001b[0m             \u001b[38;5;28mprint\u001b[39m(\u001b[38;5;124m'\u001b[39m\u001b[38;5;124mСтоп!\u001b[39m\u001b[38;5;124m'\u001b[39m)\n\u001b[0;32m      5\u001b[0m \u001b[38;5;28;01mexcept\u001b[39;00m (\u001b[38;5;167;01mIOError\u001b[39;00m, \u001b[38;5;167;01mAttributeError\u001b[39;00m, \u001b[38;5;167;01mValueError\u001b[39;00m):\n",
      "\u001b[1;31mNameError\u001b[0m: name 'instrumentRotor' is not defined"
     ]
    }
   ],
   "source": [
    "#STOP\n",
    "try:\n",
    "            instrumentRotor.write_registers(0x6002, [0x0040])\n",
    "            print('Стоп!')\n",
    "except (IOError, AttributeError, ValueError):\n",
    "            message = \"Команда не прошла\"\n",
    "            print(message)"
   ]
  },
  {
   "cell_type": "code",
   "execution_count": null,
   "metadata": {},
   "outputs": [],
   "source": [
    "#measuring cycle\n",
    "step = 40\n",
    "step_lin = 480\n",
    "speed_lin = 0x0010\n",
    "Bx, By, Bz, Z, Phi = getData()\n",
    "PHI = Phi.split()[0].replace('\\u00B0','').replace('\\\\xb0','').replace(',','.')\n",
    "Phi0 = float(PHI[4:])\n",
    "Phi_curr = float(PHI[4:])\n",
    "print('начальный угол', Phi0)\n",
    "\n",
    "data_list = []\n",
    "\n",
    "\n",
    "while Phi_curr < 360:\n",
    "    Bx, By, Bz, Z, Phi = getData()\n",
    "    print('сырая выдача', Bx, By, Bz, Z, Phi)\n",
    "    Phi = Phi.split()[0].replace('\\u00B0','').replace('\\\\xb0','').replace(',','.')\n",
    "    Phi_curr = float(Phi[4:])\n",
    "    Bx = Bx.lstrip('b\\'').split()[0].replace('\\u00B0','').replace(',','.')\n",
    "    Bx = digit_Bx()\n",
    "    By = digit_By()\n",
    "    Bz = digit_Bz()\n",
    "    #Bx = float(Bx[5:11].replace(',','.'))\n",
    "    #By = float(By[4:9].replace(',','.'))\n",
    "    #Bz = float(Bz[4:9].replace(',','.'))\n",
    "    Z = digit_Z() #float(Z[3:4].replace(',','.'))\n",
    "    \n",
    "    curr_list = []\n",
    "    curr_list = [Bx, By, Bz, Z, Phi_curr]\n",
    "    print(curr_list)\n",
    "    data_list.append(curr_list)\n",
    "    \n",
    "    try:\n",
    "        \n",
    "        instrumentRotor.write_registers(0x0007, [0x0000])\n",
    "        move = int(step*1.9)\n",
    "        speed = 0x0001\n",
    "        \n",
    "        instrumentRotor.write_registers(0x6200, [0x0041, 0, move, speed, 0x03E8, 0x03E8, 0x0000, 0x0010])\n",
    "        \n",
    "    except (IOError, AttributeError, ValueError):\n",
    "        message = \"Команда не прошла\"\n",
    "        print(message)\n",
    "    \n",
    "    time.sleep(1.5)\n",
    "    \n",
    "\n",
    "    if [(Phi_curr < 360) & (abs(Phi_curr - Phi0) < 1)]:\n",
    "        try:\n",
    "        \n",
    "            instrumentLinear.write_registers(0x0007, [0x0000])\n",
    "            move_lin = int(step_lin*1.9)\n",
    "        \n",
    "            instrumentLinear.write_registers(0x6200, [0x0041, 0, move_lin, speed_lin, 0x03E8, 0x03E8, 0x0000, 0x0010])\n",
    "        \n",
    "        except (IOError, AttributeError, ValueError):\n",
    "            message = \"Команда не прошла\"\n",
    "            print(message)\n",
    "        time.sleep(2)\n",
    "\n",
    "    \n",
    "    #time.sleep(1)\n",
    " \n",
    "    \n",
    "        \n",
    "\n",
    "        \n",
    "    \n",
    " "
   ]
  },
  {
   "cell_type": "code",
   "execution_count": 172,
   "metadata": {},
   "outputs": [],
   "source": [
    "with open('rotor_data_spiral2.txt', 'w') as output:\n",
    "    output.write(str(data_list))"
   ]
  },
  {
   "cell_type": "code",
   "execution_count": 173,
   "metadata": {},
   "outputs": [
    {
     "name": "stdout",
     "output_type": "stream",
     "text": [
      "[-1.105, -1.006, -0.916, -0.705, -0.369, -0.218, 0.264, 0.81, 1.505, 2.297, 3.25, 4.291, 5.475, 6.828, 8.363, 10.103, 12.048, 14.322, 16.852, 19.738, 22.952, 26.589, 30.702, 35.415, 40.828, 47.171, 54.661, 63.633, 74.531, 86.885, 102.946, 104.373, 124.616, 125.014, 146.216, 162.356, 166.553, 151.424, 140.125, 145.09, 150.233, 137.518, 135.543, 131.438, 114.682, 115.698, 94.007, 68.069, 69.223, 49.188, -6.151, -24.01, -5.331, 23.12, 52.941, 53.266, -0.945, -56.872, -59.739, -71.322, -97.214, -94.659, -89.991, -86.832, -81.227, -100.817, -105.724, -99.131, -122.151, -167.286, -199.281, -201.764, -190.861, -180.297, -179.499, -169.562, -162.99, -157.79, -154.813, -152.914, -152.496, -153.675, -156.424, -160.725, -167.636, -177.557, -189.205, -202.158, -207.167, -185.453, -138.341, -111.351, -111.074, -102.454, -86.433, -93.297, -95.184, -102.085, -100.825, -73.344, -67.152, -57.89, -4.089, 44.649, 38.577, 5.842, -25.712, -47.332, -22.438, 33.494, 50.266, 51.378, 79.942, 92.072, 87.839, 94.55, 88.069, 91.8, 101.724, 92.298, 100.952, 139.165, 187.162, 207.405, 202.929, 191.076, 179.731, 170.074, 163.56, 158.762, 156.153, 154.715, 154.833, 156.664, 159.524, 164.919, 172.098, 182.848, 195.154, 207.017, 206.733, 177.891, 131.142, 107.048, 110.737, 104.405, 88.695, 94.589, 95.531, 100.168, 98.05, 71.829, 71.862, 63.091, 56.025, 5.373, -41.542, -37.272, -4.99, 26.398, 48.777, 27.384, -32.494, -54.724, -55.46, -78.836, -94.089, -88.542, -92.138, -85.94, -88.584, -100.699, -93.468, -100.681, -136.36, -184.235, -203.682, -199.811, -188.97, -177.296, -168.555, -161.925, -157.548, -154.789, -153.198, -153.034, -154.4, -157.11, -164.072, -176.438, -180.422, -191.163, -205.552, -209.11, -168.406, -122.933, -98.133, -102.618, -99.553, -87.128, -92.915, -94.056, -97.385, -97.07, -73.094, -62.395, -57.197, -6.785, 38.511, 36.606, 6.68, -26.112, -47.759, -27.124, 32.848, 55.421, 56.195, 79.266, 95.721, 90.236, 94.175, 88.924, 93.014, 106.277, 99.439, 105.044, 140.339, 185.489, 202.326, 197.491, 187.261, 176.145, 168.304, 161.884, 157.925, 155.077, 153.737, 153.69, 155.202, 158.233, 163.611, 170.816, 181.347, 192.182, 202.942, 198.054, 161.026, 117.96, 94.122, 101.029, 98.945, 87.809, 94.659, 96.566, 100.766, 101.493, 76.323, 65.194, 61.27, 61.506, 7.672, -37.939, -40.262, -15.205, 15.004, 33.606, 14.295, -40.468, -61.016, -59.892, -84.807, -104.504, -102.348, -116.644, -117.958, -121.583, -133.843, -127.481, -129.734, -159.542, -205.352, -237.22, -251.27, -254.087, -255.013, -246.197, -228.933, -203.813, -176.647, -151.55, -130.335, -112.649, -98.128, -85.94, -75.653, -66.764, -58.991, -52.059, -51.506, -44.979, -39.108, -34.157, -29.711, -25.962, -22.579, -19.698, -17.009, -14.589, -12.343, -10.361, -8.62, -6.978, -5.619, -5.109, -3.993, -3.129, -2.307, -1.679, -1.104, -0.704, -0.323, -0.016, 0.323]\n"
     ]
    }
   ],
   "source": [
    "\n",
    "Bx = []\n",
    "for num in data_list:\n",
    "    Bx.append(num[0])\n",
    "print(Bx)    "
   ]
  },
  {
   "cell_type": "code",
   "execution_count": 176,
   "metadata": {},
   "outputs": [
    {
     "data": {
      "image/png": "[encoded data removed]",
      "text/plain": [
       "<Figure size 640x480 with 1 Axes>"
      ]
     },
     "metadata": {},
     "output_type": "display_data"
    }
   ],
   "source": [
    "import matplotlib.pyplot as plt\n",
    "plt.plot(Bx)\n",
    "plt.show()"
   ]
  }
 ],
 "metadata": {
  "kernelspec": {
   "display_name": "Python 3",
   "language": "python",
   "name": "python3"
  },
  "language_info": {
   "codemirror_mode": {
    "name": "ipython",
    "version": 3
   },
   "file_extension": ".py",
   "mimetype": "text/x-python",
   "name": "python",
   "nbconvert_exporter": "python",
   "pygments_lexer": "ipython3",
   "version": "3.12.4"
  }
 },
 "nbformat": 4,
 "nbformat_minor": 2
}
